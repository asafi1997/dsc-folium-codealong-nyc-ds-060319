{
 "cells": [
  {
   "cell_type": "markdown",
   "metadata": {},
   "source": [
    "# Folium - Codealong\n",
    "\n",
    "## Introduction \n",
    "\n",
    "In this codealong, we'll take a look at how to create an interactive map using the Folium package. From there, we'll return to APIs in the final lab for the day where you'll make an interactive map from your requests to the API!\n",
    "\n",
    "## Objectives\n",
    "\n",
    "You will be able to: \n",
    "* Create maps with Folium"
   ]
  },
  {
   "cell_type": "markdown",
   "metadata": {},
   "source": [
    "## Creating a Basemap\n",
    "\n",
    "Here we'll take a look at creating a basemap over the London region!"
   ]
  },
  {
   "cell_type": "code",
   "execution_count": 3,
   "metadata": {
    "scrolled": false
   },
   "outputs": [
    {
     "data": {
      "text/html": [
       "<div style=\"width:100%;\"><div style=\"position:relative;width:100%;height:0;padding-bottom:60%;\"><iframe src=\"data:text/html;charset=utf-8;base64,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\" style=\"position:absolute;width:100%;height:100%;left:0;top:0;border:none !important;\" allowfullscreen webkitallowfullscreen mozallowfullscreen></iframe></div></div>"
      ],
      "text/plain": [
       "<folium.folium.Map at 0x7f0e30585d30>"
      ]
     },
     "execution_count": 3,
     "metadata": {},
     "output_type": "execute_result"
    }
   ],
   "source": [
    "import folium\n",
    "\n",
    "lat = 51.51\n",
    "long = -0.14\n",
    "\n",
    "#Create a map of the area\n",
    "base_map = folium.Map([lat, long], zoom_start=15)\n",
    "base_map"
   ]
  },
  {
   "cell_type": "markdown",
   "metadata": {},
   "source": [
    "## Adding Markers to the Map\n",
    "\n",
    "Great! Now let's take a look at adding little markers to our map!\n",
    "\n",
    "**Note:** you may have to zoom out to see all of the markers!"
   ]
  },
  {
   "cell_type": "code",
   "execution_count": 2,
   "metadata": {},
   "outputs": [
    {
     "data": {
      "text/html": [
       "<div style=\"width:100%;\"><div style=\"position:relative;width:100%;height:0;padding-bottom:60%;\"><iframe src=\"data:text/html;charset=utf-8;base64,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\" style=\"position:absolute;width:100%;height:100%;left:0;top:0;border:none !important;\" allowfullscreen webkitallowfullscreen mozallowfullscreen></iframe></div></div>"
      ],
      "text/plain": [
       "<folium.folium.Map at 0x7f0e30585e48>"
      ]
     },
     "execution_count": 2,
     "metadata": {},
     "output_type": "execute_result"
    }
   ],
   "source": [
    "import numpy as np\n",
    "\n",
    "#Generate some random locations to add to our map\n",
    "x = [lat + np.random.uniform(-.1,.1) for i in range(20)]\n",
    "y = [long + np.random.uniform(-.1,.1) for i in range(20)]\n",
    "points = list(zip(x, y))\n",
    "for p in points:\n",
    "    lat = p[0]\n",
    "    long = p[1]\n",
    "    marker = folium.Marker(location=[lat, long])\n",
    "    marker.add_to(base_map)\n",
    "base_map"
   ]
  },
  {
   "cell_type": "markdown",
   "metadata": {},
   "source": [
    "## Adding Pop-up Boxes to Our Markers\n",
    "\n",
    "Often we may wish to not only place markers on the map, but to create interactive pop-ups which display information to that location. To do this, we can add a popup to our markers when adding them to the map! "
   ]
  },
  {
   "cell_type": "code",
   "execution_count": null,
   "metadata": {},
   "outputs": [],
   "source": [
    "for p in points:\n",
    "    lat = p[0]\n",
    "    long = p[1]\n",
    "    popup_text = \"Latitude: {}, Longitude: {}\".format(lat,long)\n",
    "    popup = folium.Popup(popup_text, parse_html=True)\n",
    "    marker = folium.Marker(location=[lat, long], popup=popup)\n",
    "    marker.add_to(base_map)\n",
    "base_map"
   ]
  },
  {
   "cell_type": "markdown",
   "metadata": {},
   "source": [
    "Now, if you click on the map markers, you should see a little information box pop up!\n",
    "\n",
    "## Summary \n",
    "\n",
    "In this codealong, we learned how to use Folium to create some cool interactive maps with only a few lines of python code! In the next lab, you'll synthesize your skills for the day together and create an interactive visualization map for data you retrieve from the Yelp API!"
   ]
  }
 ],
 "metadata": {
  "kernelspec": {
   "display_name": "Python 3",
   "language": "python",
   "name": "python3"
  },
  "language_info": {
   "codemirror_mode": {
    "name": "ipython",
    "version": 3
   },
   "file_extension": ".py",
   "mimetype": "text/x-python",
   "name": "python",
   "nbconvert_exporter": "python",
   "pygments_lexer": "ipython3",
   "version": "3.6.6"
  }
 },
 "nbformat": 4,
 "nbformat_minor": 2
}
